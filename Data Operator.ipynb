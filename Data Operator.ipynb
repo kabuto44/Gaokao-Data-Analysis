{
 "cells": [
  {
   "cell_type": "code",
   "execution_count": 2,
   "metadata": {},
   "outputs": [],
   "source": [
    "import numpy as np\n",
    "import csv\n",
    "import provinces as const"
   ]
  },
  {
   "cell_type": "code",
   "execution_count": 3,
   "metadata": {},
   "outputs": [],
   "source": [
    "def extract(path):\n",
    "    data =[]\n",
    "    header=[]\n",
    "    with open(\"Data/\" + path) as csvfile:\n",
    "        plots = csv.reader(csvfile)\n",
    "        for row in plots:\n",
    "            thisrow=[]\n",
    "            if row[0]==\"Region\":\n",
    "                header=row\n",
    "                continue\n",
    "            for i in range(2,len(row)):\n",
    "                thisrow.append(float(row[i]))\n",
    "            data.append(thisrow)\n",
    "    return np.array(data),header"
   ]
  },
  {
   "cell_type": "code",
   "execution_count": 4,
   "metadata": {},
   "outputs": [],
   "source": [
    "def save(data, title,firstyear=2022):\n",
    "    data = data.astype(str)\n",
    "    length = len(data[0])\n",
    "    data = np.insert(data,0,\"\",axis=1)\n",
    "    data = np.insert(data,0,const.PROVINCES,axis=1)\n",
    "    header = [\"Region\",\"\"]\n",
    "    for i in range(length):\n",
    "        header.append(firstyear-i)\n",
    "    all_data = np.insert(data,0,header,axis=0)\n",
    "    np.savetxt(\"Data/\" + title+\".csv\",all_data,delimiter=\",\",fmt='%s')\n"
   ]
  },
  {
   "cell_type": "code",
   "execution_count": 5,
   "metadata": {},
   "outputs": [],
   "source": [
    "urban,urbanheader = extract(\"Urban Population.csv\")\n",
    "rural,ruralheader = extract(\"Rural Population.csv\")\n",
    "percent_urban=urban/(urban+rural)\n",
    "save(percent_urban,\"Percent Urban\")"
   ]
  }
 ],
 "metadata": {
  "kernelspec": {
   "display_name": "Python 3",
   "language": "python",
   "name": "python3"
  },
  "language_info": {
   "codemirror_mode": {
    "name": "ipython",
    "version": 3
   },
   "file_extension": ".py",
   "mimetype": "text/x-python",
   "name": "python",
   "nbconvert_exporter": "python",
   "pygments_lexer": "ipython3",
   "version": "3.12.1"
  }
 },
 "nbformat": 4,
 "nbformat_minor": 2
}
