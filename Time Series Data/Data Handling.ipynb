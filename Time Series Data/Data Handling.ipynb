{
 "cells": [
  {
   "cell_type": "code",
   "execution_count": 1,
   "metadata": {},
   "outputs": [],
   "source": [
    "import operations as ops\n",
    "import os\n",
    "import consts as const"
   ]
  },
  {
   "cell_type": "code",
   "execution_count": 2,
   "metadata": {},
   "outputs": [],
   "source": [
    "from operations import clean_from_yearbook\n",
    "\n",
    "\n",
    "def clean_all_ybk_data():\n",
    "    for path in os.listdir(\"Yearbook Imported Data\"):\n",
    "        indicator = path[:-4]\n",
    "        ops.clean_from_yearbook(indicator)"
   ]
  },
  {
   "cell_type": "code",
   "execution_count": 4,
   "metadata": {},
   "outputs": [],
   "source": [
    "clean_all_ybk_data()"
   ]
  },
  {
   "cell_type": "code",
   "execution_count": null,
   "metadata": {},
   "outputs": [],
   "source": []
  },
  {
   "cell_type": "code",
   "execution_count": 2,
   "metadata": {},
   "outputs": [],
   "source": [
    "ops.prep_lin_regression_avg(\"Number of Undergraduate Schools\", \"Undergraduate Attrition by Cohort Size\")\n",
    "ops.prep_lin_regression_avg(\"Number of Undergraduate Schools\", \"Undergraduate Attrition by Cohort Size\", provinces=const.PROVINCES_MINUS_CITIES)"
   ]
  }
 ],
 "metadata": {
  "kernelspec": {
   "display_name": "Python 3",
   "language": "python",
   "name": "python3"
  },
  "language_info": {
   "codemirror_mode": {
    "name": "ipython",
    "version": 3
   },
   "file_extension": ".py",
   "mimetype": "text/x-python",
   "name": "python",
   "nbconvert_exporter": "python",
   "pygments_lexer": "ipython3",
   "version": "3.12.1"
  }
 },
 "nbformat": 4,
 "nbformat_minor": 2
}
