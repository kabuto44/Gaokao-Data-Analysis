{
 "cells": [
  {
   "cell_type": "code",
   "execution_count": 3,
   "metadata": {},
   "outputs": [],
   "source": [
    "import numpy as np\n",
    "import csv\n",
    "import consts as const\n",
    "import operations as ops\n",
    "import math"
   ]
  },
  {
   "cell_type": "code",
   "execution_count": 2,
   "metadata": {},
   "outputs": [],
   "source": [
    "data=[]\n",
    "pop,md1 = ops.extract(\"Total Population\")\n",
    "rate,md2 = ops.extract(\"Birth Rate\")\n",
    "dates=[i for i in range(const.FIRSTYEAR,const.LASTYEAR+1)]\n",
    "regions={}\n",
    "i=0\n",
    "for prov in const.PROVINCES:\n",
    "    this_prov = []\n",
    "    prov_pop = pop[md1[\"regions\"][prov]]\n",
    "    prov_rate = rate[md2[\"regions\"][prov]]\n",
    "    for year in range(const.FIRSTYEAR,const.LASTYEAR+1):\n",
    "        yr_pop = prov_pop[md1[\"dates\"].index(year)]\n",
    "        yr_rate = prov_rate[md2[\"dates\"].index(year)]\n",
    "        this_prov.append(yr_pop*10000*yr_rate/1000)\n",
    "    data.append(this_prov)\n",
    "    regions[prov]=i\n",
    "    i+=1\n",
    "metadata = {\"indicator\":[\"Births (individuals)\"],\"regions\":regions,\"dates\":dates}\n",
    "ops.save(data,metadata,\"Births\")"
   ]
  },
  {
   "cell_type": "code",
   "execution_count": 3,
   "metadata": {},
   "outputs": [],
   "source": [
    "births, md1 = ops.extract(\"Births\")\n",
    "primary, md2 = ops.extract(\"Entering Primary\")\n",
    "junior, md3 = ops.extract(\"Entering Junior\")\n",
    "senior, md4 = ops.extract(\"Entering Senior\")\n",
    "ug, md5 = ops.extract(\"Entering Undergraduate\")"
   ]
  },
  {
   "cell_type": "code",
   "execution_count": 4,
   "metadata": {},
   "outputs": [],
   "source": [
    "dates = [i for i in range(const.FIRSTYEAR,const.LASTYEAR+1)]\n",
    "regions = const.PROV_DICT\n",
    "p_attr = []\n",
    "j_attr = []\n",
    "s_attr = []\n",
    "u_attr = []\n",
    "for prov in const.PROVINCES:\n",
    "    p_attr_y=[]\n",
    "    j_attr_y=[]\n",
    "    s_attr_y=[]\n",
    "    u_attr_y=[]\n",
    "    for year in range(const.FIRSTYEAR,const.LASTYEAR+1):\n",
    "        yr_primary = 10000*primary[md2[\"regions\"][prov]][md2[\"dates\"].index(year)]\n",
    "        yr_junior = 10000*junior[md3[\"regions\"][prov]][md3[\"dates\"].index(year)]\n",
    "        yr_senior = 10000*senior[md4[\"regions\"][prov]][md4[\"dates\"].index(year)]\n",
    "        yr_ug = 10000*ug[md5[\"regions\"][prov]][md5[\"dates\"].index(year)]\n",
    "        try:\n",
    "            last_births = births[md1[\"regions\"][prov]][md1[\"dates\"].index(year-6)]\n",
    "        except ValueError:\n",
    "            last_births = np.nan\n",
    "        try:\n",
    "            last_primary = 10000*primary[md2[\"regions\"][prov]][md2[\"dates\"].index(year-6)]\n",
    "        except ValueError:\n",
    "            last_primary = np.nan\n",
    "        try:\n",
    "            last_junior = 10000*junior[md3[\"regions\"][prov]][md3[\"dates\"].index(year-3)]\n",
    "        except ValueError:\n",
    "            last_junior = np.nan\n",
    "        try:\n",
    "            last_senior = 10000*senior[md4[\"regions\"][prov]][md4[\"dates\"].index(year-3)]\n",
    "        except ValueError:\n",
    "            last_senior = np.nan\n",
    "        p_attr_y.append(yr_primary-last_births)\n",
    "        j_attr_y.append(yr_junior-last_primary)\n",
    "        s_attr_y.append(yr_senior-last_junior)\n",
    "        u_attr_y.append(yr_ug-last_senior)\n",
    "    p_attr.append(p_attr_y)\n",
    "    j_attr.append(j_attr_y)\n",
    "    s_attr.append(s_attr_y)\n",
    "    u_attr.append(u_attr_y)\n",
    "p_metadata = {\"indicator\":[\"Primary Attrition (individuals)\"],\"dates\":dates,\"regions\":regions}\n",
    "ops.save(p_attr,p_metadata,\"Primary Attrition\")\n",
    "j_metadata = {\"indicator\":[\"Junior Attrition (individuals)\"],\"dates\":dates,\"regions\":regions}\n",
    "ops.save(j_attr,j_metadata,\"Junior Attrition\")\n",
    "s_metadata = {\"indicator\":[\"Senior Attrition (individuals)\"],\"dates\":dates,\"regions\":regions}\n",
    "ops.save(s_attr,s_metadata,\"Senior Attrition\")\n",
    "u_metadata = {\"indicator\":[\"Undergraduate Attrition (individuals)\"],\"dates\":dates,\"regions\":regions}\n",
    "ops.save(u_attr,u_metadata,\"Undergraduate Attrition\")\n"
   ]
  },
  {
   "cell_type": "code",
   "execution_count": 5,
   "metadata": {},
   "outputs": [],
   "source": [
    "primary,md1 = ops.extract(\"Primary Attrition\")\n",
    "junior,md2 = ops.extract(\"Junior Attrition\")\n",
    "senior,md3 = ops.extract(\"Senior Attrition\")\n",
    "ug,md4 = ops.extract(\"Undergraduate Attrition\")\n",
    "\n",
    "c_primary = [[np.nan]*(const.LASTYEAR-const.FIRSTYEAR+1) for i in range(len(const.PROVINCES))]\n",
    "c_junior = [[np.nan]*(const.LASTYEAR-const.FIRSTYEAR+1) for i in range(len(const.PROVINCES))]\n",
    "c_senior = [[np.nan]*(const.LASTYEAR-const.FIRSTYEAR+1) for i in range(len(const.PROVINCES))]\n",
    "c_ug = [[np.nan]*(const.LASTYEAR-const.FIRSTYEAR+1) for i in range(len(const.PROVINCES))]\n",
    "\n",
    "for i in range(len(const.PROVINCES)):\n",
    "    for j in range(const.LASTYEAR-const.FIRSTYEAR+1):\n",
    "        try:\n",
    "            a = primary[i][j+6]\n",
    "        except IndexError:\n",
    "            a = np.nan\n",
    "        try:\n",
    "            b = junior[i][j+12]\n",
    "        except IndexError:\n",
    "            b = np.nan\n",
    "        try:\n",
    "            c = senior[i][j+15]\n",
    "        except IndexError:\n",
    "            c = np.nan\n",
    "        try:\n",
    "            d = ug[i][j+18]\n",
    "        except IndexError:\n",
    "            d = np.nan\n",
    "        c_primary[i][j]=a\n",
    "        c_junior[i][j]=b\n",
    "        c_senior[i][j]=c\n",
    "        c_ug[i][j]=d\n",
    "p_metadata = {\"indicator\":[\"Cohort Primary Attrition (individuals)\"],\"dates\":dates,\"regions\":regions}\n",
    "ops.save(c_primary,p_metadata,\"Cohort Primary Attrition\")\n",
    "j_metadata = {\"indicator\":[\"Cohort Junior Attrition (individuals)\"],\"dates\":dates,\"regions\":regions}\n",
    "ops.save(c_junior,j_metadata,\"Cohort Junior Attrition\")\n",
    "s_metadata = {\"indicator\":[\"Cohort Senior Attrition (individuals)\"],\"dates\":dates,\"regions\":regions}\n",
    "ops.save(c_senior,s_metadata,\"Cohort Senior Attrition\")\n",
    "u_metadata = {\"indicator\":[\"Cohort Undergraduate Attrition (individuals)\"],\"dates\":dates,\"regions\":regions}\n",
    "ops.save(c_ug,u_metadata,\"Cohort Undergraduate Attrition\")\n",
    "        "
   ]
  },
  {
   "cell_type": "code",
   "execution_count": 10,
   "metadata": {},
   "outputs": [],
   "source": [
    "attrition, md1 = ops.extract(\"Cohort Undergraduate Attrition\")\n",
    "births, md2 = ops.extract(\"Births\")\n",
    "attrition = np.array(attrition)\n",
    "births = np.array(births)\n",
    "percent_attrition = np.divide(attrition,births)\n",
    "pa_metadata = {\"indicator\":[\"Undergraduate Attrition by Cohort Size\"],\"dates\":dates,\"regions\":regions}\n",
    "ops.save(percent_attrition,pa_metadata,\"Undergraduate Attrition by Cohort Size\")"
   ]
  },
  {
   "cell_type": "code",
   "execution_count": 12,
   "metadata": {},
   "outputs": [],
   "source": [
    "attrition, md1 = ops.extract(\"Cohort Undergraduate Attrition\")\n",
    "seniors, md2 = ops.extract(\"Entering Senior\")\n",
    "attrition = np.array(attrition)\n",
    "seniors = 10000*np.array(seniors)\n",
    "percent_attrition = np.divide(attrition,seniors)\n",
    "pa_metadata = {\"indicator\":[\"Undergraduate Attrition by Senior Size\"],\"dates\":dates,\"regions\":regions}\n",
    "ops.save(percent_attrition,pa_metadata,\"Undergraduate Attrition by Senior Size\")"
   ]
  },
  {
   "cell_type": "code",
   "execution_count": 6,
   "metadata": {},
   "outputs": [],
   "source": [
    "def get_cohort_data(birth_year, province):\n",
    "    data={}\n",
    "    data[\"Birth Year\"]=birth_year\n",
    "    data[\"Province\"]=province[0]\n",
    "\n",
    "\n",
    "    pop,md1 = ops.extract(\"Total Population\",province)\n",
    "    birth_yr_pop=pop[0][md1[\"dates\"].index(birth_year)]\n",
    "    rate,md2 = ops.extract(\"Birth Rate\",province)\n",
    "    birth_yr_rate = rate[0][md2[\"dates\"].index(birth_year)]\n",
    "    births = birth_yr_pop*10000*birth_yr_rate/1000\n",
    "    data[\"Births (individuals)\"]=births\n",
    "\n",
    "\n",
    "    en_primary,md3 = ops.extract(\"Entering Primary\", province)\n",
    "    entering_primary = 10000*en_primary[0][md3[\"dates\"].index(birth_year+6)]\n",
    "    data[\"Entering Primary\"]=entering_primary\n",
    "\n",
    "    en_junior,md4 = ops.extract(\"Entering Junior\", province)\n",
    "    entering_junior = 10000*en_junior[0][md4[\"dates\"].index(birth_year+12)]\n",
    "    data[\"Entering Junior\"]=entering_junior\n",
    "\n",
    "    en_senior,md5 = ops.extract(\"Entering Senior\", province)\n",
    "    entering_senior = 10000* en_senior[0][md5[\"dates\"].index(birth_year+15)]\n",
    "    data[\"Entering Senior\"]=entering_senior\n",
    "\n",
    "    en_ug,md6 = ops.extract(\"Entering Undergraduate\", province)\n",
    "    entering_ug = 10000*en_ug[0][md6[\"dates\"].index(birth_year+18)]\n",
    "    data[\"Entering Undergraduate\"] = entering_ug\n",
    "\n",
    "    primary_attrition = entering_primary-births\n",
    "    data[\"Primary Attrition\"]=primary_attrition\n",
    "\n",
    "    junior_attrition = entering_junior-entering_primary\n",
    "    data[\"Junior Attrition\"]=junior_attrition\n",
    "\n",
    "    senior_attrition = entering_senior-entering_junior\n",
    "    data[\"Senior Attrition\"]=senior_attrition\n",
    "\n",
    "    ug_attrition = entering_ug - entering_senior\n",
    "    data[\"Undergraduate Attrition\"] = ug_attrition\n",
    "    \n",
    "    return data"
   ]
  },
  {
   "cell_type": "code",
   "execution_count": 7,
   "metadata": {},
   "outputs": [],
   "source": [
    "def get_all_data(first_year,last_year, provinces,save=False):\n",
    "    all_data=[]\n",
    "    for province in provinces:\n",
    "        for year in range(first_year,last_year+1):\n",
    "            all_data.append(get_cohort_data(year,[province]))\n",
    "    if save:\n",
    "        np.savetxt(\"Cohort Data.txt\", all_data, fmt='%s')\n",
    "    else:\n",
    "        return all_data"
   ]
  },
  {
   "cell_type": "code",
   "execution_count": 8,
   "metadata": {},
   "outputs": [
    {
     "name": "stdout",
     "output_type": "stream",
     "text": [
      "{'Birth Year': 2000, 'Province': 'Beijing', 'Births (individuals)': 84568.0, 'Entering Primary': 73100.0, 'Entering Junior': 108100.0, 'Entering Senior': 56700.0, 'Entering Undergraduate': 152000.0, 'Primary Attrition': -11468.0, 'Junior Attrition': 35000.0, 'Senior Attrition': -51400.0, 'Undergraduate Attrition': 95300.0}\n",
      "{'Birth Year': 2001, 'Province': 'Beijing', 'Births (individuals)': 84485.0, 'Entering Primary': 109200.0, 'Entering Junior': 106700.0, 'Entering Senior': 53500.0, 'Entering Undergraduate': 152200.0, 'Primary Attrition': 24715.0, 'Junior Attrition': -2500.0, 'Senior Attrition': -53200.0, 'Undergraduate Attrition': 98700.0}\n",
      "{'Birth Year': 2002, 'Province': 'Beijing', 'Births (individuals)': 93918.0, 'Entering Primary': 110399.99999999999, 'Entering Junior': 102700.0, 'Entering Senior': 53800.0, 'Entering Undergraduate': 154700.0, 'Primary Attrition': 16481.999999999985, 'Junior Attrition': -7699.999999999985, 'Senior Attrition': -48900.0, 'Undergraduate Attrition': 100900.0}\n",
      "{'Birth Year': 2003, 'Province': 'Beijing', 'Births (individuals)': 74256.0, 'Entering Primary': 102400.0, 'Entering Junior': nan, 'Entering Senior': 47400.0, 'Entering Undergraduate': 159800.0, 'Primary Attrition': 28144.0, 'Junior Attrition': nan, 'Senior Attrition': nan, 'Undergraduate Attrition': 112400.0}\n",
      "{'Birth Year': 2004, 'Province': 'Beijing', 'Births (individuals)': 91073.0, 'Entering Primary': 113699.99999999999, 'Entering Junior': nan, 'Entering Senior': 51400.0, 'Entering Undergraduate': 162600.00000000003, 'Primary Attrition': 22626.999999999985, 'Junior Attrition': nan, 'Senior Attrition': nan, 'Undergraduate Attrition': 111200.00000000003}\n",
      "{'Birth Year': 2000, 'Province': 'Guangdong', 'Births (individuals)': 1325180.0, 'Entering Primary': 1556399.9999999998, 'Entering Junior': 1402500.0, 'Entering Senior': 664400.0, 'Entering Undergraduate': 573300.0, 'Primary Attrition': 231219.99999999977, 'Junior Attrition': -153899.99999999977, 'Senior Attrition': -738100.0, 'Undergraduate Attrition': -91100.0}\n",
      "{'Birth Year': 2001, 'Province': 'Guangdong', 'Births (individuals)': 1218253.5, 'Entering Primary': 1438700.0, 'Entering Junior': 1299900.0, 'Entering Senior': 643300.0, 'Entering Undergraduate': 616300.0, 'Primary Attrition': 220446.5, 'Junior Attrition': -138800.0, 'Senior Attrition': -656600.0, 'Undergraduate Attrition': -27000.0}\n",
      "{'Birth Year': 2002, 'Province': 'Guangdong', 'Births (individuals)': 1175101.8, 'Entering Primary': 1315900.0, 'Entering Junior': 1195600.0, 'Entering Senior': 611400.0, 'Entering Undergraduate': 866100.0, 'Primary Attrition': 140798.19999999995, 'Junior Attrition': -120300.0, 'Senior Attrition': -584200.0, 'Undergraduate Attrition': 254700.0}\n",
      "{'Birth Year': 2003, 'Province': 'Guangdong', 'Births (individuals)': 1224345.8, 'Entering Primary': 1274200.0, 'Entering Junior': nan, 'Entering Senior': 604200.0, 'Entering Undergraduate': 694300.0000000001, 'Primary Attrition': 49854.19999999995, 'Junior Attrition': nan, 'Senior Attrition': nan, 'Undergraduate Attrition': 90100.00000000012}\n",
      "{'Birth Year': 2004, 'Province': 'Guangdong', 'Births (individuals)': 1196274.3, 'Entering Primary': 1359199.9999999998, 'Entering Junior': nan, 'Entering Senior': 639400.0, 'Entering Undergraduate': 715699.9999999999, 'Primary Attrition': 162925.69999999972, 'Junior Attrition': nan, 'Senior Attrition': nan, 'Undergraduate Attrition': 76299.99999999988}\n"
     ]
    }
   ],
   "source": [
    "for line in get_all_data(2000,2004,[\"Beijing\",\"Guangdong\"]):\n",
    "    print(line)"
   ]
  },
  {
   "cell_type": "code",
   "execution_count": 17,
   "metadata": {},
   "outputs": [],
   "source": [
    "school, md1 = ops.extract(\"Number of Undergraduate Schools\")\n",
    "new_data = [[np.nan]*(const.LASTYEAR-const.FIRSTYEAR+1) for i in range(len(const.PROVINCES))]\n",
    "for i in range(len(const.PROVINCES)):\n",
    "    for j in range(const.LASTYEAR-const.FIRSTYEAR+1):\n",
    "        try:\n",
    "            new_data[i][j]=school[i][j+18]\n",
    "        except IndexError:\n",
    "            new_data[i][j]=np.nan\n",
    "s_metadata = {\"indicator\":[\"Number of Undergraduate Schools (at age 18)\"],\"dates\":md1[\"dates\"],\"regions\":md1[\"regions\"]}\n",
    "ops.save(new_data,s_metadata,\"Number of UG Schools Time Adjusted\")"
   ]
  },
  {
   "cell_type": "code",
   "execution_count": 30,
   "metadata": {},
   "outputs": [],
   "source": [
    "ops.average(\"Number of Undergraduate Schools\")\n",
    "ops.average(\"Undergraduate Attrition by Cohort Size\")"
   ]
  },
  {
   "cell_type": "code",
   "execution_count": null,
   "metadata": {},
   "outputs": [],
   "source": []
  }
 ],
 "metadata": {
  "kernelspec": {
   "display_name": "Python 3",
   "language": "python",
   "name": "python3"
  },
  "language_info": {
   "codemirror_mode": {
    "name": "ipython",
    "version": 3
   },
   "file_extension": ".py",
   "mimetype": "text/x-python",
   "name": "python",
   "nbconvert_exporter": "python",
   "pygments_lexer": "ipython3",
   "version": "3.12.1"
  }
 },
 "nbformat": 4,
 "nbformat_minor": 2
}
