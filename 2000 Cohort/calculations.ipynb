{
 "cells": [
  {
   "cell_type": "code",
   "execution_count": 1,
   "metadata": {},
   "outputs": [],
   "source": [
    "import numpy as np\n",
    "import operations as ops\n",
    "import pandas as pd"
   ]
  },
  {
   "cell_type": "code",
   "execution_count": 4,
   "metadata": {},
   "outputs": [],
   "source": [
    "# calculate CHEDI\n",
    "pop = ops.indicator_to_series(\"Population\")\n",
    "total_pop = pop.sum()\n",
    "rel_pop = pop/total_pop\n",
    "ug = ops.indicator_to_series(\"Undergraduate Institutions\")\n",
    "total_ug = ug.sum()\n",
    "rel_ug = ug / total_ug\n",
    "chedi = rel_ug / rel_pop\n",
    "ops.save_series(chedi,path=\"CHEDI\")\n",
    "log_chedi = np.log(chedi)\n",
    "ops.save_series(log_chedi,path=\"log CHEDI\")"
   ]
  },
  {
   "cell_type": "code",
   "execution_count": 3,
   "metadata": {},
   "outputs": [],
   "source": [
    "#Calculate scaled inflow\n",
    "grad = ops.indicator_to_series(\"Senior Graduates\")\n",
    "enroll = ops.indicator_to_series(\"UG Enrollment\")\n",
    "inflow = enroll - grad\n",
    "ops.save_series(inflow,path=\"Inflow\")\n",
    "scaled_inflow = inflow/grad\n",
    "ops.save_series(scaled_inflow,path=\"Scaled Inflow\")"
   ]
  },
  {
   "cell_type": "code",
   "execution_count": 5,
   "metadata": {},
   "outputs": [],
   "source": [
    "#calculate relative gross regional product\n",
    "grp = ops.indicator_to_series(\"GRP\")\n",
    "total_grp = grp.sum()\n",
    "rel_grp = grp/total_grp\n",
    "ops.save_series(rel_grp,path=\"Relative GRP\")"
   ]
  }
 ],
 "metadata": {
  "kernelspec": {
   "display_name": "Python 3",
   "language": "python",
   "name": "python3"
  },
  "language_info": {
   "codemirror_mode": {
    "name": "ipython",
    "version": 3
   },
   "file_extension": ".py",
   "mimetype": "text/x-python",
   "name": "python",
   "nbconvert_exporter": "python",
   "pygments_lexer": "ipython3",
   "version": "3.12.1"
  }
 },
 "nbformat": 4,
 "nbformat_minor": 2
}
