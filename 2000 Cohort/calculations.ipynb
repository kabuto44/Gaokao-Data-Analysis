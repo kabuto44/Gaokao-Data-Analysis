{
 "cells": [
  {
   "cell_type": "code",
   "execution_count": 2,
   "metadata": {},
   "outputs": [],
   "source": [
    "import numpy as np\n",
    "import operations as ops\n",
    "import pandas as pd"
   ]
  },
  {
   "cell_type": "code",
   "execution_count": 4,
   "metadata": {},
   "outputs": [],
   "source": [
    "# calculate CHEDI\n",
    "pop = ops.indicator_to_series(\"Population\")\n",
    "total_pop = pop.sum()\n",
    "rel_pop = pop/total_pop\n",
    "ug = ops.indicator_to_series(\"Undergraduate Institutions\")\n",
    "total_ug = ug.sum()\n",
    "rel_ug = ug / total_ug\n",
    "chedi = rel_ug / rel_pop\n",
    "ops.save_series(chedi,path=\"CHEDI\")\n",
    "log_chedi = np.log(chedi)\n",
    "ops.save_series(log_chedi,path=\"log CHEDI\")"
   ]
  },
  {
   "cell_type": "code",
   "execution_count": 3,
   "metadata": {},
   "outputs": [],
   "source": [
    "#Calculate scaled inflow\n",
    "grad = ops.indicator_to_series(\"Senior Graduates\")\n",
    "enroll = ops.indicator_to_series(\"UG Enrollment\")\n",
    "inflow = enroll - grad\n",
    "ops.save_series(inflow,path=\"Inflow\")\n",
    "scaled_inflow = inflow/grad\n",
    "ops.save_series(scaled_inflow,path=\"Scaled Inflow\")"
   ]
  },
  {
   "cell_type": "code",
   "execution_count": 7,
   "metadata": {},
   "outputs": [],
   "source": [
    "#calculate relative gross regional product\n",
    "grp = ops.indicator_to_series(\"GRP\")\n",
    "total_grp = grp.sum()\n",
    "rel_grp = grp/total_grp\n",
    "ops.save_series(rel_grp,path=\"Relative GRP\")\n",
    "\n",
    "#calculate grp per capita\n",
    "pop = ops.indicator_to_series(\"Population\")\n",
    "grp_capita = grp/pop\n",
    "ops.save_series(grp_capita,path=\"GRP per Capita\")"
   ]
  },
  {
   "cell_type": "code",
   "execution_count": 3,
   "metadata": {},
   "outputs": [],
   "source": [
    "#calculate CHEI from CHEDI and CHEQI\n",
    "\n",
    "#normalize CHEDI\n",
    "chedi = ops.indicator_to_series(\"CHEDI\")\n",
    "min_chedi = chedi.min()\n",
    "max_chedi = chedi.max()\n",
    "num_chedi = chedi - min_chedi\n",
    "denom_chedi = max_chedi - min_chedi\n",
    "norm_chedi = num_chedi/denom_chedi\n",
    "\n",
    "#normalize cheqi\n",
    "cheqi = ops.indicator_to_series(\"CHEQI\")\n",
    "min_cheqi = cheqi.min()\n",
    "max_cheqi = cheqi.max()\n",
    "num_cheqi = cheqi - min_cheqi\n",
    "denom_cheqi = max_cheqi - min_cheqi\n",
    "norm_cheqi = num_cheqi/denom_cheqi\n",
    "\n",
    "#aggregate chei\n",
    "chei = (norm_chedi + norm_cheqi)/2\n",
    "ops.save_series(chei,path=\"CHEI\")"
   ]
  },
  {
   "cell_type": "code",
   "execution_count": 6,
   "metadata": {},
   "outputs": [
    {
     "name": "stdout",
     "output_type": "stream",
     "text": [
      "Region\n",
      "Beijing           1.232877\n",
      "Tianjin           1.024209\n",
      "Hebei             1.211668\n",
      "Shanxi            1.231826\n",
      "Inner Mongolia    1.332878\n",
      "Liaoning          0.896318\n",
      "Jilin             1.126972\n",
      "Heilongjiang      1.006081\n",
      "Shanghai          0.963391\n",
      "Jiangsu           1.059539\n",
      "Zhejiang          1.208054\n",
      "Anhui             1.351571\n",
      "Fujian            0.975255\n",
      "Jiangxi           1.247947\n",
      "Shandong          1.076168\n",
      "Henan             1.488801\n",
      "Hubei             1.357039\n",
      "Hunan             1.322359\n",
      "Guangdong         1.172467\n",
      "Guangxi           1.352265\n",
      "Hainan            1.017544\n",
      "Chongqing         1.224890\n",
      "Sichuan           1.291936\n",
      "Guizhou           1.336963\n",
      "Yunnan            1.167315\n",
      "Tibet             1.308901\n",
      "Shaanxi           1.211546\n",
      "Gansu             1.357534\n",
      "Qinghai           1.074169\n",
      "Ningxia           1.319312\n",
      "Xinjiang          1.163575\n",
      "dtype: float64\n"
     ]
    }
   ],
   "source": [
    "tt = ops.indicator_to_series(\"Testtakers\")\n",
    "sg = ops.indicator_to_series(\"Senior Graduates\")\n",
    "ratio = tt/sg\n",
    "ops.save_series(ratio,path=\"Weighted Testtakers\")\n",
    "print(ratio)"
   ]
  }
 ],
 "metadata": {
  "kernelspec": {
   "display_name": "Python 3",
   "language": "python",
   "name": "python3"
  },
  "language_info": {
   "codemirror_mode": {
    "name": "ipython",
    "version": 3
   },
   "file_extension": ".py",
   "mimetype": "text/x-python",
   "name": "python",
   "nbconvert_exporter": "python",
   "pygments_lexer": "ipython3",
   "version": "3.12.1"
  }
 },
 "nbformat": 4,
 "nbformat_minor": 2
}
