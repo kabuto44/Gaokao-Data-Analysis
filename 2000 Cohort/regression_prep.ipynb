{
 "cells": [
  {
   "cell_type": "code",
   "execution_count": 1,
   "metadata": {},
   "outputs": [],
   "source": [
    "import pandas as pd\n",
    "import numpy as np\n",
    "import operations as ops"
   ]
  },
  {
   "cell_type": "code",
   "execution_count": 4,
   "metadata": {},
   "outputs": [],
   "source": [
    "ops.save_df(ops.make_df([\"CHEDI\",\"Scaled Inflow\"]),path=\"Inflow vs CHEDI\")"
   ]
  },
  {
   "cell_type": "code",
   "execution_count": 5,
   "metadata": {},
   "outputs": [],
   "source": [
    "ops.save_df(ops.make_df([\"CHEDI\",\"Scaled Inflow\",\"Relative GRP\"]),path=\"Inflow vs CHEDI and GRP\")"
   ]
  },
  {
   "cell_type": "code",
   "execution_count": 6,
   "metadata": {},
   "outputs": [],
   "source": [
    "ops.save_df(ops.make_df([\"CHEDI\",\"Scaled Inflow\",\"Relative GRP\",\"Science Cutoff\"]),path=\"Inflow vs CHEDI and GRP and Science\")"
   ]
  }
 ],
 "metadata": {
  "kernelspec": {
   "display_name": "Python 3",
   "language": "python",
   "name": "python3"
  },
  "language_info": {
   "codemirror_mode": {
    "name": "ipython",
    "version": 3
   },
   "file_extension": ".py",
   "mimetype": "text/x-python",
   "name": "python",
   "nbconvert_exporter": "python",
   "pygments_lexer": "ipython3",
   "version": "3.12.1"
  }
 },
 "nbformat": 4,
 "nbformat_minor": 2
}
