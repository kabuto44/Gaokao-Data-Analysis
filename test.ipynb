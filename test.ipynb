{
 "cells": [
  {
   "cell_type": "code",
   "execution_count": 1,
   "metadata": {},
   "outputs": [],
   "source": [
    "import operations as ops\n",
    "import ast\n",
    "import consts as const"
   ]
  },
  {
   "cell_type": "code",
   "execution_count": 2,
   "metadata": {},
   "outputs": [
    {
     "name": "stdout",
     "output_type": "stream",
     "text": [
      "([[nan, nan, nan, nan, 1.48, 1.45, 1.41, 1.38, 1.31, 1.37, 1.34, 1.3, 1.26, 1.23, 1.19, 1.17, 1.14, 1.17, 1.11], [nan, nan, nan, nan, 6.0, 5.87, 5.77, 5.61, 5.51, 5.45, 5.3, 5.12, 4.97, 5.03, 5.01, 5.06, 5.06, 5.28, 5.33], [nan, nan, nan, nan, 3.88, 3.78, 3.75, 3.79, 3.87, 3.89, 3.88, 3.86, 3.84, 3.83, 3.86, 3.98, 4.05, 4.15, 4.22], [nan, nan, nan, nan, 3.46, 3.48, 3.41, 4.19, 4.26, 4.13, 3.93, 3.66, 3.44, 3.32, 3.23, 3.28, 3.38, 3.51, 3.58], [nan, nan, nan, nan, 2.4, 2.37, 2.37, 2.27, 2.23, 2.16, 2.14, 2.12, 2.06, 1.98, 1.96, 1.99, 2.01, 2.1, 2.2], [nan, nan, nan, nan, 3.05, 2.97, 2.77, 2.65, 2.44, 2.25, 2.01, 1.92, 1.73, 1.72, 1.78, 1.97, 2.09, 2.34, 2.59], [nan, nan, nan, nan, 8.43, 8.13, 7.88, 7.42, 7.14, 6.68, 6.45, 6.23, 6.06, 6.04, 5.93, 5.82, 5.88, 6.0, 6.29]], {'indicator': ['Total Number of Teachers and Staff in Secondary _Vocational Schools (Institutions)(10000 persons)'], 'dates': [2004, 2005, 2006, 2007, 2008, 2009, 2010, 2011, 2012, 2013, 2014, 2015, 2016, 2017, 2018, 2019, 2020, 2021, 2022], 'regions': {'Shanghai': 0, 'Jiangsu': 1, 'Zhejiang': 2, 'Anhui': 3, 'Fujian': 4, 'Jiangxi': 5, 'Shandong': 6}})\n"
     ]
    }
   ],
   "source": [
    "print(ops.extract(\"Teachers and STaff Vocational\",const.EAST_CHINA))"
   ]
  }
 ],
 "metadata": {
  "kernelspec": {
   "display_name": "Python 3",
   "language": "python",
   "name": "python3"
  },
  "language_info": {
   "codemirror_mode": {
    "name": "ipython",
    "version": 3
   },
   "file_extension": ".py",
   "mimetype": "text/x-python",
   "name": "python",
   "nbconvert_exporter": "python",
   "pygments_lexer": "ipython3",
   "version": "3.12.1"
  }
 },
 "nbformat": 4,
 "nbformat_minor": 2
}
